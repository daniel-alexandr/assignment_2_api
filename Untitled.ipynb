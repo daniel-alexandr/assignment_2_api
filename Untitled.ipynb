{
 "cells": [
  {
   "cell_type": "code",
   "execution_count": 6,
   "id": "904b4010-9e06-446b-8253-fab9764632de",
   "metadata": {},
   "outputs": [],
   "source": [
    "# from fastapi import FastAPI\n",
    "# from starlette.responses import JSONResponse\n",
    "# from joblib import load\n",
    "import pandas as pd\n",
    "from datetime import datetime, timedelta\n"
   ]
  },
  {
   "cell_type": "code",
   "execution_count": 25,
   "id": "355f0d1a-bae8-407d-8d48-c702fcc9b1e2",
   "metadata": {},
   "outputs": [],
   "source": [
    "def format_features(\n",
    " \n",
    "    item:str,\n",
    "    store:str,\n",
    "    date:str\n",
    "    ):\n",
    "    \n",
    "\n",
    "    # Define the starting date (January 29, 2011)\n",
    "    # starting_date = datetime(2011, 1, 29)\n",
    "\n",
    "    # Define your event date\n",
    "    inputted_date = datetime.strptime(date, '%Y-%m-%d')  # Change this to your event date\n",
    "    event_date=inputted_date - timedelta(days=28)\n",
    "\n",
    "    # Extract the week number from the datetime object\n",
    "    week_number = int(event_date.strftime('%U'))\n",
    "\n",
    "    if week_number > 53:\n",
    "        week_number = 53\n",
    "    elif week_number == 0:\n",
    "        week_number=1\n",
    "\n",
    "    \n",
    "    week_number = \"{:02d}\".format(week_number)\n",
    "\n",
    "    return {\n",
    "        'cat_id': [item],\n",
    "        'store_id': [store],\n",
    "        'week': [week_number]\n",
    "        \n",
    "    }"
   ]
  },
  {
   "cell_type": "code",
   "execution_count": 26,
   "id": "ca7343ec-d812-4ec5-8952-e345e9f4e950",
   "metadata": {},
   "outputs": [],
   "source": [
    "def predict(\n",
    "    item_cat_id:str,\n",
    "    store_id:str,\n",
    "    date_yymmdd:str\n",
    "):\n",
    "    features = format_features(\n",
    "        item_cat_id,\n",
    "        store_id,\n",
    "        date_yymmdd\n",
    "        )\n",
    "    obs = pd.DataFrame(features)\n",
    "    # pred = rf_1_pipeline.predict(obs)\n",
    "    return obs"
   ]
  },
  {
   "cell_type": "code",
   "execution_count": 31,
   "id": "e06d6c2b-443e-4e8f-b9c7-46fca44a011c",
   "metadata": {},
   "outputs": [
    {
     "data": {
      "text/html": [
       "<div>\n",
       "<style scoped>\n",
       "    .dataframe tbody tr th:only-of-type {\n",
       "        vertical-align: middle;\n",
       "    }\n",
       "\n",
       "    .dataframe tbody tr th {\n",
       "        vertical-align: top;\n",
       "    }\n",
       "\n",
       "    .dataframe thead th {\n",
       "        text-align: right;\n",
       "    }\n",
       "</style>\n",
       "<table border=\"1\" class=\"dataframe\">\n",
       "  <thead>\n",
       "    <tr style=\"text-align: right;\">\n",
       "      <th></th>\n",
       "      <th>cat_id</th>\n",
       "      <th>store_id</th>\n",
       "      <th>week</th>\n",
       "    </tr>\n",
       "  </thead>\n",
       "  <tbody>\n",
       "    <tr>\n",
       "      <th>0</th>\n",
       "      <td>HOBBIES</td>\n",
       "      <td>CA_1</td>\n",
       "      <td>02</td>\n",
       "    </tr>\n",
       "  </tbody>\n",
       "</table>\n",
       "</div>"
      ],
      "text/plain": [
       "    cat_id store_id week\n",
       "0  HOBBIES     CA_1   02"
      ]
     },
     "execution_count": 31,
     "metadata": {},
     "output_type": "execute_result"
    }
   ],
   "source": [
    "predict('HOBBIES','CA_1','2011-02-10')"
   ]
  }
 ],
 "metadata": {
  "kernelspec": {
   "display_name": "Python 3 (ipykernel)",
   "language": "python",
   "name": "python3"
  },
  "language_info": {
   "codemirror_mode": {
    "name": "ipython",
    "version": 3
   },
   "file_extension": ".py",
   "mimetype": "text/x-python",
   "name": "python",
   "nbconvert_exporter": "python",
   "pygments_lexer": "ipython3",
   "version": "3.8.9"
  }
 },
 "nbformat": 4,
 "nbformat_minor": 5
}
